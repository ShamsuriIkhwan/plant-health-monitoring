{
 "cells": [
  {
   "cell_type": "code",
   "execution_count": 1,
   "id": "7396101b",
   "metadata": {
    "_cell_guid": "b1076dfc-b9ad-4769-8c92-a6c4dae69d19",
    "_uuid": "8f2839f25d086af736a60e9eeb907d3b93b6e0e5",
    "execution": {
     "iopub.execute_input": "2023-06-26T20:29:19.003381Z",
     "iopub.status.busy": "2023-06-26T20:29:19.002599Z",
     "iopub.status.idle": "2023-06-26T20:29:34.915510Z",
     "shell.execute_reply": "2023-06-26T20:29:34.914494Z"
    },
    "papermill": {
     "duration": 15.924373,
     "end_time": "2023-06-26T20:29:34.918623",
     "exception": false,
     "start_time": "2023-06-26T20:29:18.994250",
     "status": "completed"
    },
    "tags": []
   },
   "outputs": [
    {
     "name": "stderr",
     "output_type": "stream",
     "text": [
      "/opt/conda/lib/python3.10/site-packages/tensorflow_io/python/ops/__init__.py:98: UserWarning: unable to load libtensorflow_io_plugins.so: unable to open file: libtensorflow_io_plugins.so, from paths: ['/opt/conda/lib/python3.10/site-packages/tensorflow_io/python/ops/libtensorflow_io_plugins.so']\n",
      "caused by: ['/opt/conda/lib/python3.10/site-packages/tensorflow_io/python/ops/libtensorflow_io_plugins.so: undefined symbol: _ZN3tsl6StatusC1EN10tensorflow5error4CodeESt17basic_string_viewIcSt11char_traitsIcEENS_14SourceLocationE']\n",
      "  warnings.warn(f\"unable to load libtensorflow_io_plugins.so: {e}\")\n",
      "/opt/conda/lib/python3.10/site-packages/tensorflow_io/python/ops/__init__.py:104: UserWarning: file system plugins are not loaded: unable to open file: libtensorflow_io.so, from paths: ['/opt/conda/lib/python3.10/site-packages/tensorflow_io/python/ops/libtensorflow_io.so']\n",
      "caused by: ['/opt/conda/lib/python3.10/site-packages/tensorflow_io/python/ops/libtensorflow_io.so: undefined symbol: _ZTVN10tensorflow13GcsFileSystemE']\n",
      "  warnings.warn(f\"file system plugins are not loaded: {e}\")\n"
     ]
    }
   ],
   "source": [
    "import tensorflow as tf\n",
    "from tensorflow.keras.preprocessing.image import ImageDataGenerator\n",
    "import os\n",
    "from tensorflow.keras.layers import Conv2D, Dense, MaxPooling2D, Flatten,Dropout\n",
    "from tensorflow.keras.applications.vgg16 import preprocess_input\n",
    "from tensorflow.keras.layers import BatchNormalization, Input\n",
    "from tensorflow.keras.models import Model\n",
    "from tensorflow.keras.preprocessing.image import ImageDataGenerator\n",
    "from tensorflow.keras.callbacks import ModelCheckpoint\n",
    "import numpy as np\n",
    "import matplotlib.pyplot as plt"
   ]
  },
  {
   "cell_type": "code",
   "execution_count": 2,
   "id": "e10cb797",
   "metadata": {
    "execution": {
     "iopub.execute_input": "2023-06-26T20:29:34.937593Z",
     "iopub.status.busy": "2023-06-26T20:29:34.936865Z",
     "iopub.status.idle": "2023-06-26T20:29:34.941820Z",
     "shell.execute_reply": "2023-06-26T20:29:34.940963Z"
    },
    "papermill": {
     "duration": 0.018756,
     "end_time": "2023-06-26T20:29:34.946400",
     "exception": false,
     "start_time": "2023-06-26T20:29:34.927644",
     "status": "completed"
    },
    "tags": []
   },
   "outputs": [],
   "source": [
    "train_dir='/kaggle/input/project-fyp/content/split_dataset/227x227/train'\n",
    "valid_dir='/kaggle/input/project-fyp/content/split_dataset/227x227/valid'\n",
    "test_dir='/kaggle/input/project-fyp/content/split_dataset/227x227/test'"
   ]
  },
  {
   "cell_type": "code",
   "execution_count": 3,
   "id": "2e46e0a5",
   "metadata": {
    "execution": {
     "iopub.execute_input": "2023-06-26T20:29:34.963794Z",
     "iopub.status.busy": "2023-06-26T20:29:34.963460Z",
     "iopub.status.idle": "2023-06-26T20:29:34.967929Z",
     "shell.execute_reply": "2023-06-26T20:29:34.967169Z"
    },
    "papermill": {
     "duration": 0.017194,
     "end_time": "2023-06-26T20:29:34.971871",
     "exception": false,
     "start_time": "2023-06-26T20:29:34.954677",
     "status": "completed"
    },
    "tags": []
   },
   "outputs": [],
   "source": [
    "batch_size = 32\n",
    "img_height,img_width = (227,227)\n",
    "num_classes = 2\n",
    "EPOCHS = 50"
   ]
  },
  {
   "cell_type": "code",
   "execution_count": 4,
   "id": "d6df4c18",
   "metadata": {
    "execution": {
     "iopub.execute_input": "2023-06-26T20:29:34.988750Z",
     "iopub.status.busy": "2023-06-26T20:29:34.988420Z",
     "iopub.status.idle": "2023-06-26T20:29:34.993128Z",
     "shell.execute_reply": "2023-06-26T20:29:34.992301Z"
    },
    "papermill": {
     "duration": 0.017609,
     "end_time": "2023-06-26T20:29:34.997087",
     "exception": false,
     "start_time": "2023-06-26T20:29:34.979478",
     "status": "completed"
    },
    "tags": []
   },
   "outputs": [],
   "source": [
    "train_datagen = ImageDataGenerator(\n",
    "    preprocessing_function=preprocess_input,\n",
    "    shear_range=0.2,\n",
    "    zoom_range=0.2,\n",
    "    horizontal_flip=True,\n",
    "    validation_split=0.4\n",
    ")"
   ]
  },
  {
   "cell_type": "code",
   "execution_count": 5,
   "id": "0e94bfcd",
   "metadata": {
    "execution": {
     "iopub.execute_input": "2023-06-26T20:29:35.013822Z",
     "iopub.status.busy": "2023-06-26T20:29:35.013472Z",
     "iopub.status.idle": "2023-06-26T20:29:41.278615Z",
     "shell.execute_reply": "2023-06-26T20:29:41.277732Z"
    },
    "papermill": {
     "duration": 6.275944,
     "end_time": "2023-06-26T20:29:41.280691",
     "exception": false,
     "start_time": "2023-06-26T20:29:35.004747",
     "status": "completed"
    },
    "tags": []
   },
   "outputs": [
    {
     "name": "stdout",
     "output_type": "stream",
     "text": [
      "Found 4266 images belonging to 2 classes.\n"
     ]
    }
   ],
   "source": [
    "train_generator = train_datagen.flow_from_directory(\n",
    "    directory=train_dir,\n",
    "    target_size=(img_height, img_width),\n",
    "    batch_size=batch_size,\n",
    "    class_mode='categorical',\n",
    "    subset='training'\n",
    ")"
   ]
  },
  {
   "cell_type": "code",
   "execution_count": 6,
   "id": "a9847100",
   "metadata": {
    "execution": {
     "iopub.execute_input": "2023-06-26T20:29:41.295072Z",
     "iopub.status.busy": "2023-06-26T20:29:41.293399Z",
     "iopub.status.idle": "2023-06-26T20:29:42.340892Z",
     "shell.execute_reply": "2023-06-26T20:29:42.340012Z"
    },
    "papermill": {
     "duration": 1.056675,
     "end_time": "2023-06-26T20:29:42.343311",
     "exception": false,
     "start_time": "2023-06-26T20:29:41.286636",
     "status": "completed"
    },
    "tags": []
   },
   "outputs": [
    {
     "name": "stdout",
     "output_type": "stream",
     "text": [
      "Found 821 images belonging to 2 classes.\n"
     ]
    }
   ],
   "source": [
    "valid_generator = train_datagen.flow_from_directory(\n",
    "    directory=valid_dir,\n",
    "    target_size=(img_height, img_width),\n",
    "    batch_size=1,\n",
    "    class_mode='categorical',\n",
    "    subset='validation'\n",
    ")"
   ]
  },
  {
   "cell_type": "code",
   "execution_count": 7,
   "id": "a455cf74",
   "metadata": {
    "execution": {
     "iopub.execute_input": "2023-06-26T20:29:42.356279Z",
     "iopub.status.busy": "2023-06-26T20:29:42.355965Z",
     "iopub.status.idle": "2023-06-26T20:29:42.422009Z",
     "shell.execute_reply": "2023-06-26T20:29:42.421175Z"
    },
    "papermill": {
     "duration": 0.075081,
     "end_time": "2023-06-26T20:29:42.424109",
     "exception": false,
     "start_time": "2023-06-26T20:29:42.349028",
     "status": "completed"
    },
    "tags": []
   },
   "outputs": [
    {
     "name": "stdout",
     "output_type": "stream",
     "text": [
      "Found 289 images belonging to 2 classes.\n"
     ]
    }
   ],
   "source": [
    "test_generator = train_datagen.flow_from_directory(\n",
    "    directory=test_dir,\n",
    "    target_size=(img_height, img_width),\n",
    "    batch_size=1,\n",
    "    class_mode='categorical',\n",
    "    subset='validation'\n",
    ")"
   ]
  },
  {
   "cell_type": "code",
   "execution_count": 8,
   "id": "8534d9e2",
   "metadata": {
    "execution": {
     "iopub.execute_input": "2023-06-26T20:29:42.437460Z",
     "iopub.status.busy": "2023-06-26T20:29:42.437189Z",
     "iopub.status.idle": "2023-06-26T20:29:42.488829Z",
     "shell.execute_reply": "2023-06-26T20:29:42.488005Z"
    },
    "papermill": {
     "duration": 0.061077,
     "end_time": "2023-06-26T20:29:42.490802",
     "exception": false,
     "start_time": "2023-06-26T20:29:42.429725",
     "status": "completed"
    },
    "tags": []
   },
   "outputs": [
    {
     "data": {
      "text/plain": [
       "(1, 227, 227, 3)"
      ]
     },
     "execution_count": 8,
     "metadata": {},
     "output_type": "execute_result"
    }
   ],
   "source": [
    "x, y = test_generator.next()\n",
    "x.shape  # Display to confirm the shape of the input"
   ]
  },
  {
   "cell_type": "code",
   "execution_count": 9,
   "id": "389cdd7b",
   "metadata": {
    "execution": {
     "iopub.execute_input": "2023-06-26T20:29:42.504494Z",
     "iopub.status.busy": "2023-06-26T20:29:42.503972Z",
     "iopub.status.idle": "2023-06-26T20:29:42.508735Z",
     "shell.execute_reply": "2023-06-26T20:29:42.507876Z"
    },
    "papermill": {
     "duration": 0.013832,
     "end_time": "2023-06-26T20:29:42.510894",
     "exception": false,
     "start_time": "2023-06-26T20:29:42.497062",
     "status": "completed"
    },
    "tags": []
   },
   "outputs": [
    {
     "name": "stdout",
     "output_type": "stream",
     "text": [
      "['Diseased', 'Healthy']\n"
     ]
    }
   ],
   "source": [
    "class_names = list(train_generator.class_indices.keys())\n",
    "print(class_names)"
   ]
  },
  {
   "cell_type": "code",
   "execution_count": 10,
   "id": "c2aa9596",
   "metadata": {
    "execution": {
     "iopub.execute_input": "2023-06-26T20:29:42.525392Z",
     "iopub.status.busy": "2023-06-26T20:29:42.524613Z",
     "iopub.status.idle": "2023-06-26T20:29:42.529348Z",
     "shell.execute_reply": "2023-06-26T20:29:42.528440Z"
    },
    "papermill": {
     "duration": 0.014076,
     "end_time": "2023-06-26T20:29:42.531379",
     "exception": false,
     "start_time": "2023-06-26T20:29:42.517303",
     "status": "completed"
    },
    "tags": []
   },
   "outputs": [],
   "source": [
    "target_names = ['Diseased', 'Healthy']"
   ]
  },
  {
   "cell_type": "code",
   "execution_count": 11,
   "id": "b6c47a7a",
   "metadata": {
    "execution": {
     "iopub.execute_input": "2023-06-26T20:29:42.546977Z",
     "iopub.status.busy": "2023-06-26T20:29:42.545257Z",
     "iopub.status.idle": "2023-06-26T20:29:42.558602Z",
     "shell.execute_reply": "2023-06-26T20:29:42.557739Z"
    },
    "papermill": {
     "duration": 0.022631,
     "end_time": "2023-06-26T20:29:42.560748",
     "exception": false,
     "start_time": "2023-06-26T20:29:42.538117",
     "status": "completed"
    },
    "tags": []
   },
   "outputs": [],
   "source": [
    "def AlexNet():\n",
    "    input_layer = Input(shape=train_generator.image_shape)\n",
    "\n",
    "    # First convolutional layer\n",
    "    X = Conv2D(filters=96, kernel_size=(11, 11), strides=4, activation='relu', padding=\"same\")(input_layer)\n",
    "    X = BatchNormalization()(X)\n",
    "    X = MaxPooling2D(pool_size=(3, 3), strides=2)(X)\n",
    "\n",
    "    # Second convolutional layer\n",
    "    X = Conv2D(filters=256, kernel_size=(5, 5), activation='relu', padding=\"same\")(X)\n",
    "    X = BatchNormalization()(X)\n",
    "    X = MaxPooling2D(pool_size=(3, 3), strides=2)(X)\n",
    "\n",
    "    # Third convolutional layer\n",
    "    X = Conv2D(filters=384, kernel_size=(3, 3), strides=1, activation='relu', padding=\"same\")(X)\n",
    "    X = BatchNormalization()(X)\n",
    "\n",
    "    # Fourth convolutional layer\n",
    "    X = Conv2D(filters=384, kernel_size=(3, 3), strides=1, activation='relu', padding=\"same\")(X)\n",
    "    X = BatchNormalization()(X)\n",
    "\n",
    "    # Fifth convolutional layer\n",
    "    X = Conv2D(filters=256, kernel_size=(3, 3), strides=1, activation='relu', padding=\"same\")(X)\n",
    "    X = BatchNormalization()(X)\n",
    "    X = MaxPooling2D(pool_size=(3, 3), strides=2)(X)\n",
    "\n",
    "    # Flattening\n",
    "    X = Flatten()(X)\n",
    "\n",
    "    # First fully connected layer\n",
    "    X = Dense(4096, activation='relu')(X)\n",
    "    X = Dropout(0.5)(X)\n",
    "\n",
    "    # Second fully connected layer\n",
    "    X = Dense(4096, activation='relu')(X)\n",
    "    X = Dropout(0.5)(X)\n",
    "\n",
    "    # Output layer\n",
    "    predictions = Dense(train_generator.num_classes, activation='softmax')(X)\n",
    "\n",
    "    # Create the model\n",
    "    model = Model(inputs=input_layer, outputs=predictions, name=\"AlexNet\")\n",
    "    return model"
   ]
  },
  {
   "cell_type": "code",
   "execution_count": 12,
   "id": "eeeda665",
   "metadata": {
    "execution": {
     "iopub.execute_input": "2023-06-26T20:29:42.575136Z",
     "iopub.status.busy": "2023-06-26T20:29:42.574310Z",
     "iopub.status.idle": "2023-06-26T20:29:48.643206Z",
     "shell.execute_reply": "2023-06-26T20:29:48.642337Z"
    },
    "papermill": {
     "duration": 6.114526,
     "end_time": "2023-06-26T20:29:48.681802",
     "exception": false,
     "start_time": "2023-06-26T20:29:42.567276",
     "status": "completed"
    },
    "tags": []
   },
   "outputs": [
    {
     "name": "stdout",
     "output_type": "stream",
     "text": [
      "Model: \"AlexNet\"\n",
      "_________________________________________________________________\n",
      " Layer (type)                Output Shape              Param #   \n",
      "=================================================================\n",
      " input_1 (InputLayer)        [(None, 227, 227, 3)]     0         \n",
      "                                                                 \n",
      " conv2d (Conv2D)             (None, 57, 57, 96)        34944     \n",
      "                                                                 \n",
      " batch_normalization (BatchN  (None, 57, 57, 96)       384       \n",
      " ormalization)                                                   \n",
      "                                                                 \n",
      " max_pooling2d (MaxPooling2D  (None, 28, 28, 96)       0         \n",
      " )                                                               \n",
      "                                                                 \n",
      " conv2d_1 (Conv2D)           (None, 28, 28, 256)       614656    \n",
      "                                                                 \n",
      " batch_normalization_1 (Batc  (None, 28, 28, 256)      1024      \n",
      " hNormalization)                                                 \n",
      "                                                                 \n",
      " max_pooling2d_1 (MaxPooling  (None, 13, 13, 256)      0         \n",
      " 2D)                                                             \n",
      "                                                                 \n",
      " conv2d_2 (Conv2D)           (None, 13, 13, 384)       885120    \n",
      "                                                                 \n",
      " batch_normalization_2 (Batc  (None, 13, 13, 384)      1536      \n",
      " hNormalization)                                                 \n",
      "                                                                 \n",
      " conv2d_3 (Conv2D)           (None, 13, 13, 384)       1327488   \n",
      "                                                                 \n",
      " batch_normalization_3 (Batc  (None, 13, 13, 384)      1536      \n",
      " hNormalization)                                                 \n",
      "                                                                 \n",
      " conv2d_4 (Conv2D)           (None, 13, 13, 256)       884992    \n",
      "                                                                 \n",
      " batch_normalization_4 (Batc  (None, 13, 13, 256)      1024      \n",
      " hNormalization)                                                 \n",
      "                                                                 \n",
      " max_pooling2d_2 (MaxPooling  (None, 6, 6, 256)        0         \n",
      " 2D)                                                             \n",
      "                                                                 \n",
      " flatten (Flatten)           (None, 9216)              0         \n",
      "                                                                 \n",
      " dense (Dense)               (None, 4096)              37752832  \n",
      "                                                                 \n",
      " dropout (Dropout)           (None, 4096)              0         \n",
      "                                                                 \n",
      " dense_1 (Dense)             (None, 4096)              16781312  \n",
      "                                                                 \n",
      " dropout_1 (Dropout)         (None, 4096)              0         \n",
      "                                                                 \n",
      " dense_2 (Dense)             (None, 2)                 8194      \n",
      "                                                                 \n",
      "=================================================================\n",
      "Total params: 58,295,042\n",
      "Trainable params: 58,292,290\n",
      "Non-trainable params: 2,752\n",
      "_________________________________________________________________\n"
     ]
    }
   ],
   "source": [
    "model = AlexNet()\n",
    "model.compile(optimizer='adam', loss='categorical_crossentropy', metrics=['accuracy'])\n",
    "model.summary()"
   ]
  },
  {
   "cell_type": "code",
   "execution_count": 13,
   "id": "2446ef57",
   "metadata": {
    "execution": {
     "iopub.execute_input": "2023-06-26T20:29:48.703883Z",
     "iopub.status.busy": "2023-06-26T20:29:48.703569Z",
     "iopub.status.idle": "2023-06-26T20:29:48.711855Z",
     "shell.execute_reply": "2023-06-26T20:29:48.710901Z"
    },
    "papermill": {
     "duration": 0.021706,
     "end_time": "2023-06-26T20:29:48.714023",
     "exception": false,
     "start_time": "2023-06-26T20:29:48.692317",
     "status": "completed"
    },
    "tags": []
   },
   "outputs": [],
   "source": [
    "from tensorflow.keras.callbacks import Callback, ModelCheckpoint\n",
    "\n",
    "# Custom callback to save the model at specific epochs\n",
    "class SaveModelAtEpochs(Callback):\n",
    "    def __init__(self, checkpoint_filepath, save_epochs):\n",
    "        super(SaveModelAtEpochs, self).__init__()\n",
    "        self.checkpoint_filepath = checkpoint_filepath\n",
    "        self.save_epochs = save_epochs\n",
    "\n",
    "    def on_epoch_end(self, epoch, logs=None):\n",
    "        if (epoch + 1) in self.save_epochs:\n",
    "            self.model.save(self.checkpoint_filepath.format(epoch=epoch+1))\n",
    "\n",
    "# Define the checkpoint filepath for the best model\n",
    "checkpoint_filepath_best = '/kaggle/working/Alexnet/50epoch.{epoch:02d}-{val_loss:.2f}.h5'\n",
    "\n",
    "# Create the ModelCheckpoint callback for the best model\n",
    "checkpoint_best = ModelCheckpoint(\n",
    "    filepath=checkpoint_filepath_best,\n",
    "    save_best_only=True,\n",
    "    save_weights_only=False,\n",
    "    monitor='val_accuracy',\n",
    "    mode='max',\n",
    "    verbose=1\n",
    ")\n",
    "\n",
    "# Define the checkpoint filepath and save epochs for the custom callback\n",
    "checkpoint_filepath_epochs = '/kaggle/working/Alexnet/save_by_epochs/alex_model_{epoch}.h5'\n",
    "save_epochs = [10, 20, 30, 40, 50]\n",
    "\n",
    "# Create the custom callback to save the model at specific epochs\n",
    "custom_checkpoint = SaveModelAtEpochs(checkpoint_filepath_epochs, save_epochs)\n",
    "\n"
   ]
  },
  {
   "cell_type": "code",
   "execution_count": 14,
   "id": "efbdb2f9",
   "metadata": {
    "execution": {
     "iopub.execute_input": "2023-06-26T20:29:48.735265Z",
     "iopub.status.busy": "2023-06-26T20:29:48.734914Z",
     "iopub.status.idle": "2023-06-26T21:33:16.891406Z",
     "shell.execute_reply": "2023-06-26T21:33:16.890314Z"
    },
    "papermill": {
     "duration": 3808.170182,
     "end_time": "2023-06-26T21:33:16.894135",
     "exception": false,
     "start_time": "2023-06-26T20:29:48.723953",
     "status": "completed"
    },
    "tags": []
   },
   "outputs": [
    {
     "name": "stdout",
     "output_type": "stream",
     "text": [
      "Epoch 1/50\n",
      "134/134 [==============================] - ETA: 0s - loss: 3.7406 - accuracy: 0.5220\n",
      "Epoch 1: val_accuracy improved from -inf to 0.47503, saving model to /kaggle/working/Alexnet/50epoch.01-2.04.h5\n",
      "134/134 [==============================] - 105s 638ms/step - loss: 3.7406 - accuracy: 0.5220 - val_loss: 2.0364 - val_accuracy: 0.4750\n",
      "Epoch 2/50\n",
      "134/134 [==============================] - ETA: 0s - loss: 0.8049 - accuracy: 0.5427\n",
      "Epoch 2: val_accuracy improved from 0.47503 to 0.53837, saving model to /kaggle/working/Alexnet/50epoch.02-0.71.h5\n",
      "134/134 [==============================] - 71s 529ms/step - loss: 0.8049 - accuracy: 0.5427 - val_loss: 0.7078 - val_accuracy: 0.5384\n",
      "Epoch 3/50\n",
      "134/134 [==============================] - ETA: 0s - loss: 0.7353 - accuracy: 0.5818\n",
      "Epoch 3: val_accuracy did not improve from 0.53837\n",
      "134/134 [==============================] - 69s 515ms/step - loss: 0.7353 - accuracy: 0.5818 - val_loss: 2.9468 - val_accuracy: 0.5164\n",
      "Epoch 4/50\n",
      "134/134 [==============================] - ETA: 0s - loss: 0.5476 - accuracy: 0.7431\n",
      "Epoch 4: val_accuracy improved from 0.53837 to 0.83800, saving model to /kaggle/working/Alexnet/50epoch.04-0.36.h5\n",
      "134/134 [==============================] - 69s 512ms/step - loss: 0.5476 - accuracy: 0.7431 - val_loss: 0.3628 - val_accuracy: 0.8380\n",
      "Epoch 5/50\n",
      "134/134 [==============================] - ETA: 0s - loss: 0.4671 - accuracy: 0.8003\n",
      "Epoch 5: val_accuracy did not improve from 0.83800\n",
      "134/134 [==============================] - 68s 511ms/step - loss: 0.4671 - accuracy: 0.8003 - val_loss: 4.0283 - val_accuracy: 0.6114\n",
      "Epoch 6/50\n",
      "134/134 [==============================] - ETA: 0s - loss: 0.4989 - accuracy: 0.7815\n",
      "Epoch 6: val_accuracy did not improve from 0.83800\n",
      "134/134 [==============================] - 77s 572ms/step - loss: 0.4989 - accuracy: 0.7815 - val_loss: 0.5437 - val_accuracy: 0.7357\n",
      "Epoch 7/50\n",
      "134/134 [==============================] - ETA: 0s - loss: 0.4713 - accuracy: 0.8139\n",
      "Epoch 7: val_accuracy did not improve from 0.83800\n",
      "134/134 [==============================] - 68s 505ms/step - loss: 0.4713 - accuracy: 0.8139 - val_loss: 0.4879 - val_accuracy: 0.7442\n",
      "Epoch 8/50\n",
      "134/134 [==============================] - ETA: 0s - loss: 0.7079 - accuracy: 0.7529\n",
      "Epoch 8: val_accuracy did not improve from 0.83800\n",
      "134/134 [==============================] - 68s 504ms/step - loss: 0.7079 - accuracy: 0.7529 - val_loss: 1.3599 - val_accuracy: 0.6248\n",
      "Epoch 9/50\n",
      "134/134 [==============================] - ETA: 0s - loss: 0.4998 - accuracy: 0.7963\n",
      "Epoch 9: val_accuracy improved from 0.83800 to 0.89403, saving model to /kaggle/working/Alexnet/50epoch.09-0.26.h5\n",
      "134/134 [==============================] - 70s 523ms/step - loss: 0.4998 - accuracy: 0.7963 - val_loss: 0.2614 - val_accuracy: 0.8940\n",
      "Epoch 10/50\n",
      "134/134 [==============================] - ETA: 0s - loss: 0.3815 - accuracy: 0.8497\n",
      "Epoch 10: val_accuracy did not improve from 0.89403\n",
      "134/134 [==============================] - 71s 531ms/step - loss: 0.3815 - accuracy: 0.8497 - val_loss: 0.3524 - val_accuracy: 0.8928\n",
      "Epoch 11/50\n",
      "134/134 [==============================] - ETA: 0s - loss: 0.3176 - accuracy: 0.8767\n",
      "Epoch 11: val_accuracy did not improve from 0.89403\n",
      "134/134 [==============================] - 70s 522ms/step - loss: 0.3176 - accuracy: 0.8767 - val_loss: 0.2459 - val_accuracy: 0.8940\n",
      "Epoch 12/50\n",
      "134/134 [==============================] - ETA: 0s - loss: 0.3216 - accuracy: 0.8779\n",
      "Epoch 12: val_accuracy did not improve from 0.89403\n",
      "134/134 [==============================] - 71s 525ms/step - loss: 0.3216 - accuracy: 0.8779 - val_loss: 0.3046 - val_accuracy: 0.8563\n",
      "Epoch 13/50\n",
      "134/134 [==============================] - ETA: 0s - loss: 0.3142 - accuracy: 0.8847\n",
      "Epoch 13: val_accuracy did not improve from 0.89403\n",
      "134/134 [==============================] - 69s 516ms/step - loss: 0.3142 - accuracy: 0.8847 - val_loss: 0.2910 - val_accuracy: 0.8855\n",
      "Epoch 14/50\n",
      "134/134 [==============================] - ETA: 0s - loss: 0.2910 - accuracy: 0.8856\n",
      "Epoch 14: val_accuracy improved from 0.89403 to 0.89647, saving model to /kaggle/working/Alexnet/50epoch.14-0.27.h5\n",
      "134/134 [==============================] - 71s 527ms/step - loss: 0.2910 - accuracy: 0.8856 - val_loss: 0.2686 - val_accuracy: 0.8965\n",
      "Epoch 15/50\n",
      "134/134 [==============================] - ETA: 0s - loss: 0.3072 - accuracy: 0.8861\n",
      "Epoch 15: val_accuracy did not improve from 0.89647\n",
      "134/134 [==============================] - 70s 525ms/step - loss: 0.3072 - accuracy: 0.8861 - val_loss: 0.5843 - val_accuracy: 0.7929\n",
      "Epoch 16/50\n",
      "134/134 [==============================] - ETA: 0s - loss: 0.2910 - accuracy: 0.8887\n",
      "Epoch 16: val_accuracy did not improve from 0.89647\n",
      "134/134 [==============================] - 78s 580ms/step - loss: 0.2910 - accuracy: 0.8887 - val_loss: 0.3845 - val_accuracy: 0.8441\n",
      "Epoch 17/50\n",
      "134/134 [==============================] - ETA: 0s - loss: 0.2770 - accuracy: 0.9008\n",
      "Epoch 17: val_accuracy did not improve from 0.89647\n",
      "134/134 [==============================] - 69s 512ms/step - loss: 0.2770 - accuracy: 0.9008 - val_loss: 1.5177 - val_accuracy: 0.6760\n",
      "Epoch 18/50\n",
      "134/134 [==============================] - ETA: 0s - loss: 0.3364 - accuracy: 0.8856\n",
      "Epoch 18: val_accuracy did not improve from 0.89647\n",
      "134/134 [==============================] - 69s 512ms/step - loss: 0.3364 - accuracy: 0.8856 - val_loss: 0.8821 - val_accuracy: 0.7771\n",
      "Epoch 19/50\n",
      "134/134 [==============================] - ETA: 0s - loss: 0.4259 - accuracy: 0.8406\n",
      "Epoch 19: val_accuracy did not improve from 0.89647\n",
      "134/134 [==============================] - 68s 511ms/step - loss: 0.4259 - accuracy: 0.8406 - val_loss: 1.9336 - val_accuracy: 0.7052\n",
      "Epoch 20/50\n",
      "134/134 [==============================] - ETA: 0s - loss: 0.3030 - accuracy: 0.8849\n",
      "Epoch 20: val_accuracy did not improve from 0.89647\n",
      "134/134 [==============================] - 71s 528ms/step - loss: 0.3030 - accuracy: 0.8849 - val_loss: 0.7636 - val_accuracy: 0.7052\n",
      "Epoch 21/50\n",
      "134/134 [==============================] - ETA: 0s - loss: 0.3961 - accuracy: 0.8469\n",
      "Epoch 21: val_accuracy improved from 0.89647 to 0.90987, saving model to /kaggle/working/Alexnet/50epoch.21-0.20.h5\n",
      "134/134 [==============================] - 72s 536ms/step - loss: 0.3961 - accuracy: 0.8469 - val_loss: 0.2043 - val_accuracy: 0.9099\n",
      "Epoch 22/50\n",
      "134/134 [==============================] - ETA: 0s - loss: 0.2880 - accuracy: 0.8976\n",
      "Epoch 22: val_accuracy did not improve from 0.90987\n",
      "134/134 [==============================] - 69s 514ms/step - loss: 0.2880 - accuracy: 0.8976 - val_loss: 0.9053 - val_accuracy: 0.6797\n",
      "Epoch 23/50\n",
      "134/134 [==============================] - ETA: 0s - loss: 0.2915 - accuracy: 0.9034\n",
      "Epoch 23: val_accuracy did not improve from 0.90987\n",
      "134/134 [==============================] - 68s 508ms/step - loss: 0.2915 - accuracy: 0.9034 - val_loss: 0.2669 - val_accuracy: 0.8831\n",
      "Epoch 24/50\n",
      "134/134 [==============================] - ETA: 0s - loss: 0.3081 - accuracy: 0.8919\n",
      "Epoch 24: val_accuracy improved from 0.90987 to 0.92814, saving model to /kaggle/working/Alexnet/50epoch.24-0.18.h5\n",
      "134/134 [==============================] - 70s 520ms/step - loss: 0.3081 - accuracy: 0.8919 - val_loss: 0.1755 - val_accuracy: 0.9281\n",
      "Epoch 25/50\n",
      "134/134 [==============================] - ETA: 0s - loss: 0.4337 - accuracy: 0.8631\n",
      "Epoch 25: val_accuracy did not improve from 0.92814\n",
      "134/134 [==============================] - 69s 514ms/step - loss: 0.4337 - accuracy: 0.8631 - val_loss: 0.5482 - val_accuracy: 0.7052\n",
      "Epoch 26/50\n",
      "134/134 [==============================] - ETA: 0s - loss: 0.6974 - accuracy: 0.7316\n",
      "Epoch 26: val_accuracy did not improve from 0.92814\n",
      "134/134 [==============================] - 68s 504ms/step - loss: 0.6974 - accuracy: 0.7316 - val_loss: 1.1722 - val_accuracy: 0.6480\n",
      "Epoch 27/50\n",
      "134/134 [==============================] - ETA: 0s - loss: 0.4785 - accuracy: 0.8029\n",
      "Epoch 27: val_accuracy did not improve from 0.92814\n",
      "134/134 [==============================] - 68s 508ms/step - loss: 0.4785 - accuracy: 0.8029 - val_loss: 1.1563 - val_accuracy: 0.6407\n",
      "Epoch 28/50\n",
      "134/134 [==============================] - ETA: 0s - loss: 0.3699 - accuracy: 0.8507\n",
      "Epoch 28: val_accuracy did not improve from 0.92814\n",
      "134/134 [==============================] - 77s 571ms/step - loss: 0.3699 - accuracy: 0.8507 - val_loss: 0.3196 - val_accuracy: 0.8441\n",
      "Epoch 29/50\n",
      "134/134 [==============================] - ETA: 0s - loss: 0.2675 - accuracy: 0.8964\n",
      "Epoch 29: val_accuracy did not improve from 0.92814\n",
      "134/134 [==============================] - 68s 505ms/step - loss: 0.2675 - accuracy: 0.8964 - val_loss: 0.8453 - val_accuracy: 0.6565\n",
      "Epoch 30/50\n",
      "134/134 [==============================] - ETA: 0s - loss: 0.2656 - accuracy: 0.8990\n",
      "Epoch 30: val_accuracy did not improve from 0.92814\n",
      "134/134 [==============================] - 71s 529ms/step - loss: 0.2656 - accuracy: 0.8990 - val_loss: 0.4999 - val_accuracy: 0.7162\n",
      "Epoch 31/50\n",
      "134/134 [==============================] - ETA: 0s - loss: 0.2881 - accuracy: 0.8985\n",
      "Epoch 31: val_accuracy did not improve from 0.92814\n",
      "134/134 [==============================] - 69s 518ms/step - loss: 0.2881 - accuracy: 0.8985 - val_loss: 169.9978 - val_accuracy: 0.4982\n",
      "Epoch 32/50\n",
      "134/134 [==============================] - ETA: 0s - loss: 0.3244 - accuracy: 0.8776\n",
      "Epoch 32: val_accuracy did not improve from 0.92814\n",
      "134/134 [==============================] - 68s 507ms/step - loss: 0.3244 - accuracy: 0.8776 - val_loss: 1.1360 - val_accuracy: 0.6797\n",
      "Epoch 33/50\n",
      "134/134 [==============================] - ETA: 0s - loss: 0.3020 - accuracy: 0.8882\n",
      "Epoch 33: val_accuracy did not improve from 0.92814\n",
      "134/134 [==============================] - 68s 507ms/step - loss: 0.3020 - accuracy: 0.8882 - val_loss: 0.3545 - val_accuracy: 0.8088\n",
      "Epoch 34/50\n",
      "134/134 [==============================] - ETA: 0s - loss: 0.2357 - accuracy: 0.9161\n",
      "Epoch 34: val_accuracy did not improve from 0.92814\n",
      "134/134 [==============================] - 67s 501ms/step - loss: 0.2357 - accuracy: 0.9161 - val_loss: 0.1828 - val_accuracy: 0.9257\n",
      "Epoch 35/50\n",
      "134/134 [==============================] - ETA: 0s - loss: 0.2031 - accuracy: 0.9297\n",
      "Epoch 35: val_accuracy did not improve from 0.92814\n",
      "134/134 [==============================] - 68s 504ms/step - loss: 0.2031 - accuracy: 0.9297 - val_loss: 0.3113 - val_accuracy: 0.8928\n",
      "Epoch 36/50\n",
      "134/134 [==============================] - ETA: 0s - loss: 0.2019 - accuracy: 0.9271\n",
      "Epoch 36: val_accuracy did not improve from 0.92814\n",
      "134/134 [==============================] - 68s 509ms/step - loss: 0.2019 - accuracy: 0.9271 - val_loss: 0.2773 - val_accuracy: 0.8624\n",
      "Epoch 37/50\n",
      "134/134 [==============================] - ETA: 0s - loss: 0.2127 - accuracy: 0.9205\n",
      "Epoch 37: val_accuracy did not improve from 0.92814\n",
      "134/134 [==============================] - 68s 509ms/step - loss: 0.2127 - accuracy: 0.9205 - val_loss: 0.2479 - val_accuracy: 0.8806\n",
      "Epoch 38/50\n",
      "134/134 [==============================] - ETA: 0s - loss: 0.2547 - accuracy: 0.9133\n",
      "Epoch 38: val_accuracy did not improve from 0.92814\n",
      "134/134 [==============================] - 68s 504ms/step - loss: 0.2547 - accuracy: 0.9133 - val_loss: 0.2268 - val_accuracy: 0.8989\n",
      "Epoch 39/50\n",
      "134/134 [==============================] - ETA: 0s - loss: 0.1982 - accuracy: 0.9304\n",
      "Epoch 39: val_accuracy did not improve from 0.92814\n",
      "134/134 [==============================] - 69s 512ms/step - loss: 0.1982 - accuracy: 0.9304 - val_loss: 0.2069 - val_accuracy: 0.9099\n",
      "Epoch 40/50\n",
      "134/134 [==============================] - ETA: 0s - loss: 0.2211 - accuracy: 0.9231\n",
      "Epoch 40: val_accuracy did not improve from 0.92814\n",
      "134/134 [==============================] - 71s 528ms/step - loss: 0.2211 - accuracy: 0.9231 - val_loss: 0.6970 - val_accuracy: 0.8392\n",
      "Epoch 41/50\n",
      "134/134 [==============================] - ETA: 0s - loss: 0.2735 - accuracy: 0.8990\n",
      "Epoch 41: val_accuracy did not improve from 0.92814\n",
      "134/134 [==============================] - 69s 515ms/step - loss: 0.2735 - accuracy: 0.8990 - val_loss: 0.3422 - val_accuracy: 0.8441\n",
      "Epoch 42/50\n",
      "134/134 [==============================] - ETA: 0s - loss: 0.2528 - accuracy: 0.9044\n",
      "Epoch 42: val_accuracy did not improve from 0.92814\n",
      "134/134 [==============================] - 68s 508ms/step - loss: 0.2528 - accuracy: 0.9044 - val_loss: 0.2615 - val_accuracy: 0.8697\n",
      "Epoch 43/50\n",
      "134/134 [==============================] - ETA: 0s - loss: 0.1829 - accuracy: 0.9334\n",
      "Epoch 43: val_accuracy did not improve from 0.92814\n",
      "134/134 [==============================] - 68s 508ms/step - loss: 0.1829 - accuracy: 0.9334 - val_loss: 0.2736 - val_accuracy: 0.8928\n",
      "Epoch 44/50\n",
      "134/134 [==============================] - ETA: 0s - loss: 0.2392 - accuracy: 0.9088\n",
      "Epoch 44: val_accuracy did not improve from 0.92814\n",
      "134/134 [==============================] - 68s 508ms/step - loss: 0.2392 - accuracy: 0.9088 - val_loss: 0.1647 - val_accuracy: 0.9281\n",
      "Epoch 45/50\n",
      "134/134 [==============================] - ETA: 0s - loss: 0.2094 - accuracy: 0.9238\n",
      "Epoch 45: val_accuracy did not improve from 0.92814\n",
      "134/134 [==============================] - 68s 504ms/step - loss: 0.2094 - accuracy: 0.9238 - val_loss: 0.2866 - val_accuracy: 0.8660\n",
      "Epoch 46/50\n",
      "134/134 [==============================] - ETA: 0s - loss: 0.1738 - accuracy: 0.9346\n",
      "Epoch 46: val_accuracy did not improve from 0.92814\n",
      "134/134 [==============================] - 69s 511ms/step - loss: 0.1738 - accuracy: 0.9346 - val_loss: 0.2340 - val_accuracy: 0.9026\n",
      "Epoch 47/50\n",
      "134/134 [==============================] - ETA: 0s - loss: 0.1791 - accuracy: 0.9344\n",
      "Epoch 47: val_accuracy improved from 0.92814 to 0.94884, saving model to /kaggle/working/Alexnet/50epoch.47-0.17.h5\n",
      "134/134 [==============================] - 70s 526ms/step - loss: 0.1791 - accuracy: 0.9344 - val_loss: 0.1743 - val_accuracy: 0.9488\n",
      "Epoch 48/50\n",
      "134/134 [==============================] - ETA: 0s - loss: 0.2113 - accuracy: 0.9323\n",
      "Epoch 48: val_accuracy did not improve from 0.94884\n",
      "134/134 [==============================] - 69s 514ms/step - loss: 0.2113 - accuracy: 0.9323 - val_loss: 0.1424 - val_accuracy: 0.9354\n",
      "Epoch 49/50\n",
      "134/134 [==============================] - ETA: 0s - loss: 0.2426 - accuracy: 0.9163\n",
      "Epoch 49: val_accuracy did not improve from 0.94884\n",
      "134/134 [==============================] - 69s 513ms/step - loss: 0.2426 - accuracy: 0.9163 - val_loss: 0.2729 - val_accuracy: 0.8538\n",
      "Epoch 50/50\n",
      "134/134 [==============================] - ETA: 0s - loss: 0.2041 - accuracy: 0.9330\n",
      "Epoch 50: val_accuracy did not improve from 0.94884\n",
      "134/134 [==============================] - 71s 530ms/step - loss: 0.2041 - accuracy: 0.9330 - val_loss: 0.1767 - val_accuracy: 0.9196\n"
     ]
    }
   ],
   "source": [
    "history = model.fit(\n",
    "    train_generator,\n",
    "    epochs=50,\n",
    "    validation_data=valid_generator,\n",
    "    callbacks=[checkpoint_best, custom_checkpoint]\n",
    ")"
   ]
  },
  {
   "cell_type": "code",
   "execution_count": 15,
   "id": "ad982933",
   "metadata": {
    "execution": {
     "iopub.execute_input": "2023-06-26T21:33:18.022922Z",
     "iopub.status.busy": "2023-06-26T21:33:18.022554Z",
     "iopub.status.idle": "2023-06-26T21:33:18.866793Z",
     "shell.execute_reply": "2023-06-26T21:33:18.865891Z"
    },
    "papermill": {
     "duration": 1.441437,
     "end_time": "2023-06-26T21:33:18.869756",
     "exception": false,
     "start_time": "2023-06-26T21:33:17.428319",
     "status": "completed"
    },
    "tags": []
   },
   "outputs": [
    {
     "data": {
      "image/png": "[encoded data removed]",
      "text/plain": [
       "<Figure size 1500x1000 with 2 Axes>"
      ]
     },
     "metadata": {},
     "output_type": "display_data"
    }
   ],
   "source": [
    "fig, axs = plt.subplots(2, 1, figsize=(15, 10))\n",
    "\n",
    "# Plot Training Accuracy and Validation Accuracy\n",
    "axs[0].plot(history.history['accuracy'])\n",
    "axs[0].plot(history.history['val_accuracy'])\n",
    "axs[0].set_title('AlexNet Training Accuracy VS Validation Accuracy')\n",
    "axs[0].set_xlabel('Epochs')\n",
    "axs[0].set_ylabel('Accuracy')\n",
    "axs[0].legend(['Training', 'Validation'])\n",
    "\n",
    "# Plot Training Loss and Validation Loss\n",
    "axs[1].plot(history.history['loss'])\n",
    "axs[1].plot(history.history['val_loss'])\n",
    "axs[1].set_title('AlexNet Training Loss VS Validation Loss')\n",
    "axs[1].set_xlabel('Epochs')\n",
    "axs[1].set_ylabel('Loss')\n",
    "axs[1].legend(['Training', 'Validation'])\n",
    "\n",
    "plt.tight_layout()\n",
    "plt.show()\n"
   ]
  },
  {
   "cell_type": "code",
   "execution_count": 16,
   "id": "da7c5c4e",
   "metadata": {
    "execution": {
     "iopub.execute_input": "2023-06-26T21:33:20.288459Z",
     "iopub.status.busy": "2023-06-26T21:33:20.288020Z",
     "iopub.status.idle": "2023-06-26T21:33:25.445017Z",
     "shell.execute_reply": "2023-06-26T21:33:25.443946Z"
    },
    "papermill": {
     "duration": 6.045437,
     "end_time": "2023-06-26T21:33:25.447433",
     "exception": false,
     "start_time": "2023-06-26T21:33:19.401996",
     "status": "completed"
    },
    "tags": []
   },
   "outputs": [],
   "source": [
    "import glob\n",
    "# Loading the best model\n",
    "saved_models_dir = '/kaggle/working/Alexnet/'\n",
    "saved_model_files = glob.glob(os.path.join(saved_models_dir, '*.h5'))\n",
    "saved_model_files.sort()\n",
    "best_model_file = saved_model_files[-1]\n",
    "best_model = tf.keras.models.load_model(best_model_file)\n",
    "\n",
    "# Saving the best model with a different name\n",
    "best_model.save('/kaggle/working/Alexnet/Saved_Model/Best_AlexNet.h5')"
   ]
  },
  {
   "cell_type": "code",
   "execution_count": 17,
   "id": "526016cf",
   "metadata": {
    "execution": {
     "iopub.execute_input": "2023-06-26T21:33:26.577393Z",
     "iopub.status.busy": "2023-06-26T21:33:26.576992Z",
     "iopub.status.idle": "2023-06-26T21:33:39.371261Z",
     "shell.execute_reply": "2023-06-26T21:33:39.370088Z"
    },
    "papermill": {
     "duration": 13.388981,
     "end_time": "2023-06-26T21:33:39.373612",
     "exception": false,
     "start_time": "2023-06-26T21:33:25.984631",
     "status": "completed"
    },
    "tags": []
   },
   "outputs": [
    {
     "name": "stdout",
     "output_type": "stream",
     "text": [
      "821/821 - 13s - loss: 0.1720 - accuracy: 0.9525 - 13s/epoch - 15ms/step\n",
      "\n",
      "Val_accuracy:  0.9524969458580017\n",
      "\n",
      "Val_loss:  0.17197135090827942\n"
     ]
    }
   ],
   "source": [
    "# Evaluating the best model on the validation set\n",
    "test_loss, test_acc = best_model.evaluate(valid_generator, verbose = 2)\n",
    "print('\\nVal_accuracy: ', test_acc)\n",
    "print('\\nVal_loss: ', test_loss)"
   ]
  },
  {
   "cell_type": "code",
   "execution_count": 18,
   "id": "05dccc2b",
   "metadata": {
    "execution": {
     "iopub.execute_input": "2023-06-26T21:33:40.521896Z",
     "iopub.status.busy": "2023-06-26T21:33:40.521418Z",
     "iopub.status.idle": "2023-06-26T21:34:09.588719Z",
     "shell.execute_reply": "2023-06-26T21:34:09.587306Z"
    },
    "papermill": {
     "duration": 29.616703,
     "end_time": "2023-06-26T21:34:09.591292",
     "exception": false,
     "start_time": "2023-06-26T21:33:39.974589",
     "status": "completed"
    },
    "tags": []
   },
   "outputs": [
    {
     "name": "stdout",
     "output_type": "stream",
     "text": [
      "for best Alex model\n",
      "1/1 [==============================] - 0s 349ms/step\n",
      "1/1 [==============================] - 0s 34ms/step\n",
      "1/1 [==============================] - 0s 24ms/step\n",
      "1/1 [==============================] - 0s 20ms/step\n",
      "1/1 [==============================] - 0s 21ms/step\n",
      "1/1 [==============================] - 0s 20ms/step\n",
      "1/1 [==============================] - 0s 19ms/step\n",
      "1/1 [==============================] - 0s 19ms/step\n",
      "1/1 [==============================] - 0s 23ms/step\n",
      "1/1 [==============================] - 0s 20ms/step\n",
      "1/1 [==============================] - 0s 20ms/step\n",
      "1/1 [==============================] - 0s 20ms/step\n",
      "1/1 [==============================] - 0s 20ms/step\n",
      "1/1 [==============================] - 0s 23ms/step\n",
      "1/1 [==============================] - 0s 21ms/step\n",
      "1/1 [==============================] - 0s 21ms/step\n",
      "1/1 [==============================] - 0s 20ms/step\n",
      "1/1 [==============================] - 0s 20ms/step\n",
      "1/1 [==============================] - 0s 19ms/step\n",
      "1/1 [==============================] - 0s 20ms/step\n",
      "1/1 [==============================] - 0s 22ms/step\n",
      "1/1 [==============================] - 0s 21ms/step\n",
      "1/1 [==============================] - 0s 20ms/step\n",
      "1/1 [==============================] - 0s 20ms/step\n",
      "1/1 [==============================] - 0s 20ms/step\n",
      "1/1 [==============================] - 0s 23ms/step\n",
      "1/1 [==============================] - 0s 24ms/step\n",
      "1/1 [==============================] - 0s 22ms/step\n",
      "1/1 [==============================] - 0s 21ms/step\n",
      "1/1 [==============================] - 0s 21ms/step\n",
      "1/1 [==============================] - 0s 20ms/step\n",
      "1/1 [==============================] - 0s 21ms/step\n",
      "1/1 [==============================] - 0s 21ms/step\n",
      "1/1 [==============================] - 0s 20ms/step\n",
      "1/1 [==============================] - 0s 21ms/step\n",
      "1/1 [==============================] - 0s 20ms/step\n",
      "1/1 [==============================] - 0s 21ms/step\n",
      "1/1 [==============================] - 0s 22ms/step\n",
      "1/1 [==============================] - 0s 22ms/step\n",
      "1/1 [==============================] - 0s 22ms/step\n",
      "1/1 [==============================] - 0s 23ms/step\n",
      "1/1 [==============================] - 0s 22ms/step\n",
      "1/1 [==============================] - 0s 22ms/step\n",
      "1/1 [==============================] - 0s 20ms/step\n",
      "1/1 [==============================] - 0s 20ms/step\n",
      "1/1 [==============================] - 0s 20ms/step\n",
      "1/1 [==============================] - 0s 20ms/step\n",
      "1/1 [==============================] - 0s 20ms/step\n",
      "1/1 [==============================] - 0s 22ms/step\n",
      "1/1 [==============================] - 0s 21ms/step\n",
      "1/1 [==============================] - 0s 20ms/step\n",
      "1/1 [==============================] - 0s 20ms/step\n",
      "1/1 [==============================] - 0s 22ms/step\n",
      "1/1 [==============================] - 0s 21ms/step\n",
      "1/1 [==============================] - 0s 21ms/step\n",
      "1/1 [==============================] - 0s 21ms/step\n",
      "1/1 [==============================] - 0s 20ms/step\n",
      "1/1 [==============================] - 0s 21ms/step\n",
      "1/1 [==============================] - 0s 21ms/step\n",
      "1/1 [==============================] - 0s 21ms/step\n",
      "1/1 [==============================] - 0s 20ms/step\n",
      "1/1 [==============================] - 0s 22ms/step\n",
      "1/1 [==============================] - 0s 21ms/step\n",
      "1/1 [==============================] - 0s 20ms/step\n",
      "1/1 [==============================] - 0s 20ms/step\n",
      "1/1 [==============================] - 0s 21ms/step\n",
      "1/1 [==============================] - 0s 20ms/step\n",
      "1/1 [==============================] - 0s 21ms/step\n",
      "1/1 [==============================] - 0s 20ms/step\n",
      "1/1 [==============================] - 0s 19ms/step\n",
      "1/1 [==============================] - 0s 20ms/step\n",
      "1/1 [==============================] - 0s 20ms/step\n",
      "1/1 [==============================] - 0s 19ms/step\n",
      "1/1 [==============================] - 0s 21ms/step\n",
      "1/1 [==============================] - 0s 19ms/step\n",
      "1/1 [==============================] - 0s 20ms/step\n",
      "1/1 [==============================] - 0s 20ms/step\n",
      "1/1 [==============================] - 0s 20ms/step\n",
      "1/1 [==============================] - 0s 22ms/step\n",
      "1/1 [==============================] - 0s 21ms/step\n",
      "1/1 [==============================] - 0s 19ms/step\n",
      "1/1 [==============================] - 0s 19ms/step\n",
      "1/1 [==============================] - 0s 22ms/step\n",
      "1/1 [==============================] - 0s 20ms/step\n",
      "1/1 [==============================] - 0s 20ms/step\n",
      "1/1 [==============================] - 0s 19ms/step\n",
      "1/1 [==============================] - 0s 21ms/step\n",
      "1/1 [==============================] - 0s 19ms/step\n",
      "1/1 [==============================] - 0s 21ms/step\n",
      "1/1 [==============================] - 0s 19ms/step\n",
      "1/1 [==============================] - 0s 19ms/step\n",
      "1/1 [==============================] - 0s 23ms/step\n",
      "1/1 [==============================] - 0s 20ms/step\n",
      "1/1 [==============================] - 0s 20ms/step\n",
      "1/1 [==============================] - 0s 21ms/step\n",
      "1/1 [==============================] - 0s 21ms/step\n",
      "1/1 [==============================] - 0s 19ms/step\n",
      "1/1 [==============================] - 0s 21ms/step\n",
      "1/1 [==============================] - 0s 20ms/step\n",
      "1/1 [==============================] - 0s 19ms/step\n",
      "1/1 [==============================] - 0s 19ms/step\n",
      "1/1 [==============================] - 0s 19ms/step\n",
      "1/1 [==============================] - 0s 19ms/step\n",
      "1/1 [==============================] - 0s 20ms/step\n",
      "1/1 [==============================] - 0s 23ms/step\n",
      "1/1 [==============================] - 0s 20ms/step\n",
      "1/1 [==============================] - 0s 20ms/step\n",
      "1/1 [==============================] - 0s 21ms/step\n",
      "1/1 [==============================] - 0s 19ms/step\n",
      "1/1 [==============================] - 0s 21ms/step\n",
      "1/1 [==============================] - 0s 21ms/step\n",
      "1/1 [==============================] - 0s 21ms/step\n",
      "1/1 [==============================] - 0s 20ms/step\n",
      "1/1 [==============================] - 0s 22ms/step\n",
      "1/1 [==============================] - 0s 20ms/step\n",
      "1/1 [==============================] - 0s 20ms/step\n",
      "1/1 [==============================] - 0s 24ms/step\n",
      "1/1 [==============================] - 0s 20ms/step\n",
      "1/1 [==============================] - 0s 21ms/step\n",
      "1/1 [==============================] - 0s 21ms/step\n",
      "1/1 [==============================] - 0s 20ms/step\n",
      "1/1 [==============================] - 0s 22ms/step\n",
      "1/1 [==============================] - 0s 21ms/step\n",
      "1/1 [==============================] - 0s 21ms/step\n",
      "1/1 [==============================] - 0s 45ms/step\n",
      "1/1 [==============================] - 0s 22ms/step\n",
      "1/1 [==============================] - 0s 21ms/step\n",
      "1/1 [==============================] - 0s 22ms/step\n",
      "1/1 [==============================] - 0s 23ms/step\n",
      "1/1 [==============================] - 0s 21ms/step\n",
      "1/1 [==============================] - 0s 22ms/step\n",
      "1/1 [==============================] - 0s 22ms/step\n",
      "1/1 [==============================] - 0s 25ms/step\n",
      "1/1 [==============================] - 0s 21ms/step\n",
      "1/1 [==============================] - 0s 22ms/step\n",
      "1/1 [==============================] - 0s 22ms/step\n",
      "1/1 [==============================] - 0s 23ms/step\n",
      "1/1 [==============================] - 0s 21ms/step\n",
      "1/1 [==============================] - 0s 21ms/step\n",
      "1/1 [==============================] - 0s 22ms/step\n",
      "1/1 [==============================] - 0s 22ms/step\n",
      "1/1 [==============================] - 0s 22ms/step\n",
      "1/1 [==============================] - 0s 20ms/step\n",
      "1/1 [==============================] - 0s 21ms/step\n",
      "1/1 [==============================] - 0s 22ms/step\n",
      "1/1 [==============================] - 0s 20ms/step\n",
      "1/1 [==============================] - 0s 21ms/step\n",
      "1/1 [==============================] - 0s 21ms/step\n",
      "1/1 [==============================] - 0s 22ms/step\n",
      "1/1 [==============================] - 0s 22ms/step\n",
      "1/1 [==============================] - 0s 20ms/step\n",
      "1/1 [==============================] - 0s 22ms/step\n",
      "1/1 [==============================] - 0s 22ms/step\n",
      "1/1 [==============================] - 0s 21ms/step\n",
      "1/1 [==============================] - 0s 20ms/step\n",
      "1/1 [==============================] - 0s 20ms/step\n",
      "1/1 [==============================] - 0s 21ms/step\n",
      "1/1 [==============================] - 0s 20ms/step\n",
      "1/1 [==============================] - 0s 20ms/step\n",
      "1/1 [==============================] - 0s 20ms/step\n",
      "1/1 [==============================] - 0s 20ms/step\n",
      "1/1 [==============================] - 0s 20ms/step\n",
      "1/1 [==============================] - 0s 19ms/step\n",
      "1/1 [==============================] - 0s 20ms/step\n",
      "1/1 [==============================] - 0s 20ms/step\n",
      "1/1 [==============================] - 0s 20ms/step\n",
      "1/1 [==============================] - 0s 23ms/step\n",
      "1/1 [==============================] - 0s 22ms/step\n",
      "1/1 [==============================] - 0s 21ms/step\n",
      "1/1 [==============================] - 0s 20ms/step\n",
      "1/1 [==============================] - 0s 22ms/step\n",
      "1/1 [==============================] - 0s 21ms/step\n",
      "1/1 [==============================] - 0s 21ms/step\n",
      "1/1 [==============================] - 0s 21ms/step\n",
      "1/1 [==============================] - 0s 21ms/step\n",
      "1/1 [==============================] - 0s 22ms/step\n",
      "1/1 [==============================] - 0s 20ms/step\n",
      "1/1 [==============================] - 0s 22ms/step\n",
      "1/1 [==============================] - 0s 19ms/step\n",
      "1/1 [==============================] - 0s 21ms/step\n",
      "1/1 [==============================] - 0s 21ms/step\n",
      "1/1 [==============================] - 0s 21ms/step\n",
      "1/1 [==============================] - 0s 20ms/step\n",
      "1/1 [==============================] - 0s 21ms/step\n",
      "1/1 [==============================] - 0s 22ms/step\n",
      "1/1 [==============================] - 0s 22ms/step\n",
      "1/1 [==============================] - 0s 20ms/step\n",
      "1/1 [==============================] - 0s 20ms/step\n",
      "1/1 [==============================] - 0s 21ms/step\n",
      "1/1 [==============================] - 0s 19ms/step\n",
      "1/1 [==============================] - 0s 20ms/step\n",
      "1/1 [==============================] - 0s 23ms/step\n",
      "1/1 [==============================] - 0s 23ms/step\n",
      "1/1 [==============================] - 0s 22ms/step\n",
      "1/1 [==============================] - 0s 24ms/step\n",
      "1/1 [==============================] - 0s 21ms/step\n",
      "1/1 [==============================] - 0s 22ms/step\n",
      "1/1 [==============================] - 0s 20ms/step\n",
      "1/1 [==============================] - 0s 21ms/step\n",
      "1/1 [==============================] - 0s 20ms/step\n",
      "1/1 [==============================] - 0s 21ms/step\n",
      "1/1 [==============================] - 0s 24ms/step\n",
      "1/1 [==============================] - 0s 20ms/step\n",
      "1/1 [==============================] - 0s 20ms/step\n",
      "1/1 [==============================] - 0s 25ms/step\n",
      "1/1 [==============================] - 0s 21ms/step\n",
      "1/1 [==============================] - 0s 22ms/step\n",
      "1/1 [==============================] - 0s 22ms/step\n",
      "1/1 [==============================] - 0s 19ms/step\n",
      "1/1 [==============================] - 0s 21ms/step\n",
      "1/1 [==============================] - 0s 21ms/step\n",
      "1/1 [==============================] - 0s 23ms/step\n",
      "1/1 [==============================] - 0s 21ms/step\n",
      "1/1 [==============================] - 0s 20ms/step\n",
      "1/1 [==============================] - 0s 21ms/step\n",
      "1/1 [==============================] - 0s 20ms/step\n",
      "1/1 [==============================] - 0s 22ms/step\n",
      "1/1 [==============================] - 0s 21ms/step\n",
      "1/1 [==============================] - 0s 20ms/step\n",
      "1/1 [==============================] - 0s 21ms/step\n",
      "1/1 [==============================] - 0s 22ms/step\n",
      "1/1 [==============================] - 0s 21ms/step\n",
      "1/1 [==============================] - 0s 21ms/step\n",
      "1/1 [==============================] - 0s 19ms/step\n",
      "1/1 [==============================] - 0s 21ms/step\n",
      "1/1 [==============================] - 0s 21ms/step\n",
      "1/1 [==============================] - 0s 20ms/step\n",
      "1/1 [==============================] - 0s 19ms/step\n",
      "1/1 [==============================] - 0s 21ms/step\n",
      "1/1 [==============================] - 0s 21ms/step\n",
      "1/1 [==============================] - 0s 25ms/step\n",
      "1/1 [==============================] - 0s 20ms/step\n",
      "1/1 [==============================] - 0s 23ms/step\n",
      "1/1 [==============================] - 0s 21ms/step\n",
      "1/1 [==============================] - 0s 20ms/step\n",
      "1/1 [==============================] - 0s 21ms/step\n",
      "1/1 [==============================] - 0s 19ms/step\n",
      "1/1 [==============================] - 0s 24ms/step\n",
      "1/1 [==============================] - 0s 21ms/step\n",
      "1/1 [==============================] - 0s 20ms/step\n",
      "1/1 [==============================] - 0s 22ms/step\n",
      "1/1 [==============================] - 0s 22ms/step\n",
      "1/1 [==============================] - 0s 20ms/step\n",
      "1/1 [==============================] - 0s 25ms/step\n",
      "1/1 [==============================] - 0s 22ms/step\n",
      "1/1 [==============================] - 0s 21ms/step\n",
      "1/1 [==============================] - 0s 22ms/step\n",
      "1/1 [==============================] - 0s 22ms/step\n",
      "1/1 [==============================] - 0s 21ms/step\n",
      "1/1 [==============================] - 0s 28ms/step\n",
      "1/1 [==============================] - 0s 22ms/step\n",
      "1/1 [==============================] - 0s 37ms/step\n",
      "1/1 [==============================] - 0s 21ms/step\n",
      "1/1 [==============================] - 0s 19ms/step\n",
      "1/1 [==============================] - 0s 20ms/step\n",
      "1/1 [==============================] - 0s 27ms/step\n",
      "1/1 [==============================] - 0s 21ms/step\n",
      "1/1 [==============================] - 0s 24ms/step\n",
      "1/1 [==============================] - 0s 23ms/step\n",
      "1/1 [==============================] - 0s 21ms/step\n",
      "1/1 [==============================] - 0s 22ms/step\n",
      "1/1 [==============================] - 0s 21ms/step\n",
      "1/1 [==============================] - 0s 22ms/step\n",
      "1/1 [==============================] - 0s 20ms/step\n",
      "1/1 [==============================] - 0s 21ms/step\n",
      "1/1 [==============================] - 0s 20ms/step\n",
      "1/1 [==============================] - 0s 20ms/step\n",
      "1/1 [==============================] - 0s 21ms/step\n",
      "1/1 [==============================] - 0s 26ms/step\n",
      "1/1 [==============================] - 0s 22ms/step\n",
      "1/1 [==============================] - 0s 22ms/step\n",
      "1/1 [==============================] - 0s 24ms/step\n",
      "1/1 [==============================] - 0s 21ms/step\n",
      "1/1 [==============================] - 0s 23ms/step\n",
      "1/1 [==============================] - 0s 21ms/step\n",
      "1/1 [==============================] - 0s 20ms/step\n",
      "1/1 [==============================] - 0s 22ms/step\n",
      "1/1 [==============================] - 0s 22ms/step\n",
      "1/1 [==============================] - 0s 21ms/step\n",
      "1/1 [==============================] - 0s 20ms/step\n",
      "1/1 [==============================] - 0s 20ms/step\n",
      "1/1 [==============================] - 0s 21ms/step\n",
      "1/1 [==============================] - 0s 21ms/step\n",
      "1/1 [==============================] - 0s 23ms/step\n",
      "1/1 [==============================] - 0s 23ms/step\n",
      "1/1 [==============================] - 0s 20ms/step\n",
      "1/1 [==============================] - 0s 21ms/step\n",
      "1/1 [==============================] - 0s 20ms/step\n",
      "1/1 [==============================] - 0s 22ms/step\n"
     ]
    },
    {
     "data": {
      "image/png": "[encoded data removed]",
      "text/plain": [
       "<Figure size 640x480 with 2 Axes>"
      ]
     },
     "metadata": {},
     "output_type": "display_data"
    },
    {
     "name": "stdout",
     "output_type": "stream",
     "text": [
      "test accuracy :92.73356401384083\n",
      "              precision    recall  f1-score   support\n",
      "\n",
      "    Diseased       0.90      0.97      0.93       144\n",
      "     Healthy       0.96      0.89      0.92       145\n",
      "\n",
      "    accuracy                           0.93       289\n",
      "   macro avg       0.93      0.93      0.93       289\n",
      "weighted avg       0.93      0.93      0.93       289\n",
      "\n"
     ]
    }
   ],
   "source": [
    "import numpy as np\n",
    "import pandas as pd\n",
    "import seaborn as sn\n",
    "import matplotlib.pyplot as plt\n",
    "from sklearn.metrics import classification_report\n",
    "\n",
    "print(\"for best Alex model\")\n",
    "model = tf.keras.models.load_model('/kaggle/working/Alexnet/Saved_Model/Best_AlexNet.h5')\n",
    "\n",
    "filenames = test_generator.filenames\n",
    "nb_samples = len(test_generator)\n",
    "\n",
    "y_prob = []\n",
    "y_act = []\n",
    "\n",
    "test_generator.reset()\n",
    "for _ in range(nb_samples):\n",
    "    X_test, Y_test = test_generator.next()\n",
    "    y_prob.append(model.predict(X_test))\n",
    "    y_act.append(Y_test)\n",
    "\n",
    "predicted_class = [list(train_generator.class_indices.keys())[i.argmax()] for i in y_prob]\n",
    "actual_class = [list(train_generator.class_indices.keys())[i.argmax()] for i in y_act]\n",
    "\n",
    "out_df = pd.DataFrame(np.vstack([predicted_class, actual_class]).T, columns=['predicted_class', 'actual_class'])\n",
    "\n",
    "confusion_matrix = pd.crosstab(out_df['actual_class'], out_df['predicted_class'], rownames=['Actual'], colnames=['Predicted'])\n",
    "\n",
    "sn.heatmap(confusion_matrix, cmap='Reds', annot=True, fmt='d')\n",
    "plt.show()\n",
    "print('test accuracy :{}'.format((np.diagonal(confusion_matrix).sum()/confusion_matrix.sum().sum()*100)))\n",
    "# Generate classification report\n",
    "classification_rep = classification_report(out_df['actual_class'], out_df['predicted_class'], target_names=target_names)\n",
    "\n",
    "print(classification_rep)"
   ]
  },
  {
   "cell_type": "markdown",
   "id": "d8cf1d4c",
   "metadata": {
    "execution": {
     "iopub.execute_input": "2023-06-25T07:03:21.763108Z",
     "iopub.status.busy": "2023-06-25T07:03:21.762673Z",
     "iopub.status.idle": "2023-06-25T07:03:22.466294Z",
     "shell.execute_reply": "2023-06-25T07:03:22.464898Z"
    },
    "papermill": {
     "duration": 0.603713,
     "end_time": "2023-06-26T21:34:10.818751",
     "exception": false,
     "start_time": "2023-06-26T21:34:10.215038",
     "status": "completed"
    },
    "tags": []
   },
   "source": [
    "import numpy as np\n",
    "import pandas as pd\n",
    "from sklearn.metrics import classification_report\n",
    "\n",
    "# List of saved model filepaths\n",
    "saved_model_filepaths = [\n",
    "    '/kaggle/working/Alexnet/save_by_epochs/alex_model_10.h5',\n",
    "    '/kaggle/working/Alexnet/save_by_epochs/alex_model_20.h5',\n",
    "    '/kaggle/working/Alexnet/save_by_epochs/alex_model_30.h5',\n",
    "    '/kaggle/working/Alexnet/save_by_epochs/alex_model_40.h5',\n",
    "    '/kaggle/working/Alexnet/save_by_epochs/alex_model_50.h5'\n",
    "]\n",
    "\n",
    "target_names = ['Diseased', 'Healthy']\n",
    "\n",
    "# Load each saved model and make predictions\n",
    "classification_reports = []\n",
    "for filepath in saved_model_filepaths:\n",
    "    model = keras.models.load_model(filepath)\n",
    "\n",
    "    y_prob = []\n",
    "    y_act = []\n",
    "\n",
    "    test_generator.reset()\n",
    "    for _ in range(nb_samples):\n",
    "        X_test, Y_test = test_generator.next()\n",
    "        y_prob.append(model.predict(X_test))\n",
    "        y_act.append(Y_test)\n",
    "\n",
    "    predicted_class = [list(train_generator.class_indices.keys())[i.argmax()] for i in y_prob]\n",
    "    actual_class = [list(train_generator.class_indices.keys())[i.argmax()] for i in y_act]\n",
    "\n",
    "    out_df = pd.DataFrame(np.vstack([predicted_class, actual_class]).T, columns=['predicted_class', 'actual_class'])\n",
    "\n",
    "    classification_rep = classification_report(out_df['actual_class'], out_df['predicted_class'], target_names=target_names)\n",
    "    classification_reports.append(classification_rep)\n",
    "\n",
    "# Print the classification reports for each epoch\n",
    "for epoch, classification_rep in enumerate(classification_reports, start=1):\n",
    "    print(f\"Classification Report for Epoch {epoch}:\")\n",
    "    print(classification_rep)\n",
    "    print()"
   ]
  }
 ],
 "metadata": {
  "kernelspec": {
   "display_name": "Python 3",
   "language": "python",
   "name": "python3"
  },
  "language_info": {
   "codemirror_mode": {
    "name": "ipython",
    "version": 3
   },
   "file_extension": ".py",
   "mimetype": "text/x-python",
   "name": "python",
   "nbconvert_exporter": "python",
   "pygments_lexer": "ipython3",
   "version": "3.10.10"
  },
  "papermill": {
   "default_parameters": {},
   "duration": 3911.075064,
   "end_time": "2023-06-26T21:34:15.017667",
   "environment_variables": {},
   "exception": null,
   "input_path": "__notebook__.ipynb",
   "output_path": "__notebook__.ipynb",
   "parameters": {},
   "start_time": "2023-06-26T20:29:03.942603",
   "version": "2.4.0"
  }
 },
 "nbformat": 4,
 "nbformat_minor": 5
}
